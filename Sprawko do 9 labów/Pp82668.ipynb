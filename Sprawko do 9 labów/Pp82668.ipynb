{
  "cells": [
    {
      "cell_type": "code",
      "execution_count": null,
      "metadata": {},
      "outputs": [],
      "source": []
    },
    {
      "attachments": {},
      "cell_type": "markdown",
      "metadata": {
        "id": "5pywbMH-CBLY"
      },
      "source": [
        "# Programowanie Równolegle i Rozproszone 2022/2023\n",
        "## Sprawozdanie z zajęć nr 9\n",
        "### Uniwersytet w Białymstoku\n",
        "### Patryk Popławski\n",
        "### 82668"
      ]
    },
    {
      "attachments": {},
      "cell_type": "markdown",
      "metadata": {
        "id": "o5sFUmfLVIdh"
      },
      "source": [
        "#  *MANDELBROT* "
      ]
    },
    {
      "attachments": {},
      "cell_type": "markdown",
      "metadata": {
        "id": "BeSLsI4wCgkJ"
      },
      "source": [
        "## Zadanie 2p\n",
        "# 1. Dokonaj przekształcenia plików z wygenerowanymi fraktalami do postaci plików graficznych,\n",
        "# które wyświetlisz.\n",
        "# 2. Przedstaw na wykresach porównanie czasów wykonania programów na GPU (Colab) oraz\n",
        "# CPU (Colab oraz komputer stacjonarny) w zależności od rozmiaru problemu (stała DIM). W\n",
        "# optymalnym przypadku wykresy powinny zostać zrealizowane z matplotlib i dołączone do\n",
        "# Colab.\n",
        "# 3. Punkty 1,2 zrealizuj dla fraktala Mandelbrota.\n",
        "# 4. Zrealizuj pracę w postaci sprawozdania w Google Colab – dokonaj także opisu programów i\n",
        "# zrealizowanych czynności – ma to mieć postać tutoriala dla osoby, która nie na związku z\n",
        "# przedmiotem"
      ]
    },
    {
      "cell_type": "markdown",
      "metadata": {
        "id": "iI4zChyGDJTj"
      },
      "source": [
        "## 1. zmiana środowiska wykonawczego z CPU na GPU \n",
        "## Środowisko wykonawcze - > Zmień typ środowiska wykonawczego - > GPU - > ZAPISZ\n",
        "## 2. Instalacja i sprawdzenie wersji \n"
      ]
    },
    {
      "cell_type": "code",
      "execution_count": 1,
      "metadata": {
        "colab": {
          "base_uri": "https://localhost:8080/"
        },
        "id": "lyIg1tSOD4ct",
        "outputId": "c565f34a-a5ae-4d4d-f441-49dd53eae098"
      },
      "outputs": [
        {
          "name": "stdout",
          "output_type": "stream",
          "text": [
            "nvcc: NVIDIA (R) Cuda compiler driver\n",
            "Copyright (c) 2005-2021 NVIDIA Corporation\n",
            "Built on Sun_Feb_14_21:12:58_PST_2021\n",
            "Cuda compilation tools, release 11.2, V11.2.152\n",
            "Build cuda_11.2.r11.2/compiler.29618528_0\n",
            "Looking in indexes: https://pypi.org/simple, https://us-python.pkg.dev/colab-wheels/public/simple/\n",
            "Collecting git+https://github.com/andreinechaev/nvcc4jupyter.git\n",
            "  Cloning https://github.com/andreinechaev/nvcc4jupyter.git to /tmp/pip-req-build-0wr1hv_8\n",
            "  Running command git clone -q https://github.com/andreinechaev/nvcc4jupyter.git /tmp/pip-req-build-0wr1hv_8\n",
            "Building wheels for collected packages: NVCCPlugin\n",
            "  Building wheel for NVCCPlugin (setup.py) ... \u001b[?25l\u001b[?25hdone\n",
            "  Created wheel for NVCCPlugin: filename=NVCCPlugin-0.0.2-py3-none-any.whl size=4304 sha256=8a04b6023ab6d8a69cb9635606f8b38be13e2ff590edabde2bc4187456e9cadc\n",
            "  Stored in directory: /tmp/pip-ephem-wheel-cache-4mg8i6iu/wheels/f3/08/cc/e2b5b0e1c92df07dbb50a6f024a68ce090f5e7b2316b41756d\n",
            "Successfully built NVCCPlugin\n",
            "Installing collected packages: NVCCPlugin\n",
            "Successfully installed NVCCPlugin-0.0.2\n",
            "created output directory at /content/src\n",
            "Out bin /content/result.out\n"
          ]
        }
      ],
      "source": [
        "!nvcc --version\n",
        "!pip install git+https://github.com/andreinechaev/nvcc4jupyter.git\n",
        "%load_ext nvcc_plugin"
      ]
    },
    {
      "cell_type": "markdown",
      "metadata": {
        "id": "vmRsPQGEEC7D"
      },
      "source": [
        "## 3. program na CUDA bez uzycia GPU, wykorzystujacy CPU czyli Procesor "
      ]
    },
    {
      "attachments": {},
      "cell_type": "markdown",
      "metadata": {
        "id": "kD-71NW7ehdO"
      },
      "source": [
        "# <<< opis programu >>> \n",
        "\n",
        "# %%cu - wykorzystane by moc kompilowac kod cuda w Google Collab \n",
        "# Struktura cuComplex: ta struktura jest używana do przechowywania liczb zespolonych i zawiera składowe rzeczywiste i urojone. Struktura ta zawiera również kilka funkcji, takie jak magnitude2, operator * i operator +, które służą do obliczania wartości liczby zespolonej.\n",
        "\n",
        "# Funkcja mandelbrot2: ta funkcja jest głównym algorytmem generującym fraktal. Funkcja ta przyjmuje dwa argumenty x i y, które określają położenie punktu na płaszczyźnie liczb zespolonych. Funkcja iteruje po liczbie zespolonej przy użyciu reguł zbioru Mandelbrota i zwraca 1, jeśli liczba zespolona należy do zbioru lub 0 w przeciwnym przypadku.\n",
        "\n",
        "# Funkcja kernel: ta funkcja jest wykonywana w pętli po wszystkich punktach na płaszczyźnie liczb zespolonych. Dla każdego punktu, funkcja wywołuje funkcję mandelbrot2, aby sprawdzić, czy punkt należy do zbioru Mandelbrota. Wartości te są następnie używane do ustawienia koloru dla punktu na bitmapie.\n",
        "\n",
        "# Funkcja save_to_file: ta funkcja zapisuje bitmapę do pliku o nazwie \"MandelCPU.ppm\" w formacie PPM.\n",
        "\n",
        "# Funkcja main: ta funkcja jest główną funkcją programu i jest odpowiedzialna za inicjalizację danych, wywołanie funkcji kernel i zapis do pliku. Czas wykonywania kodu jest również mierzony i drukowany na ekranie."
      ]
    },
    {
      "cell_type": "code",
      "execution_count": null,
      "metadata": {
        "id": "m2IhZmV0gXph"
      },
      "outputs": [],
      "source": []
    },
    {
      "cell_type": "code",
      "execution_count": 68,
      "metadata": {
        "colab": {
          "base_uri": "https://localhost:8080/"
        },
        "id": "2dD2_3F_ETQ4",
        "outputId": "679744aa-87d9-4b18-ffdd-7cade6aa4667"
      },
      "outputs": [
        {
          "name": "stdout",
          "output_type": "stream",
          "text": [
            "milliseconds 6025.248000 \n",
            "6 seconds\n",
            "\n"
          ]
        }
      ],
      "source": [
        "%%cu\n",
        "#include<stdio.h>\n",
        "#include <time.h>\n",
        "#define DIM 2000\n",
        "\n",
        "\n",
        "\n",
        "\n",
        "struct cuComplex {\n",
        "    float   r;\n",
        "    float   i;\n",
        "    cuComplex( float a, float b ) : r(a), i(b)  {}\n",
        "    float magnitude2( void ) { return r * r + i * i; }\n",
        "    cuComplex operator*(const cuComplex& a) {\n",
        "        return cuComplex(r*a.r - i*a.i, i*a.r + r*a.i);\n",
        "    }\n",
        "    cuComplex operator+(const cuComplex& a) {\n",
        "        return cuComplex(r+a.r, i+a.i);\n",
        "    }\n",
        "};\n",
        "\n",
        "\n",
        "\n",
        "int mandelbrot2(double x, double y) {\n",
        "    const float scale = 1.5;\n",
        "    float jx = scale * (float)(DIM/2 - x)/(DIM/2);\n",
        "    float jy = scale * (float)(DIM/2 - y)/(DIM/2);\n",
        "    cuComplex c(jx, jy);\n",
        "    cuComplex z(0, 0);\n",
        "    for (int i = 0; i < 200; i++) {\n",
        "    z = z * z + c;\n",
        "      if (z.magnitude2() > 1000) {\n",
        "        return 0;\n",
        "    }\n",
        "  }\n",
        "  return 1;\n",
        "}\n",
        "\n",
        "\n",
        "void kernel( unsigned char *ptr ){\n",
        "    for (int y=0; y<DIM; y++) {\n",
        "        for (int x=0; x<DIM; x++) {\n",
        "            int offset = x + y * DIM;\n",
        "            int mandelbrotValue = mandelbrot2( x, y );\n",
        "            ptr[offset*4 + 0] = 19;\n",
        "            ptr[offset*4 + 1] = 255 * mandelbrotValue ;\n",
        "            ptr[offset*4 + 2] = 72;\n",
        "            ptr[offset*4 + 3] = 200;\n",
        "        }\n",
        "    }\n",
        " }\n",
        "\n",
        "struct DataBlock{\n",
        "    unsigned char *dev_bitmap; \n",
        "};\n",
        "\n",
        "void save_to_file(unsigned char *ptr){\n",
        "  FILE *fp=fopen(\"MandelCPU.ppm\",\"w\");\n",
        "  fprintf(fp,\"P3\\n%d %d\\n255\\n\", DIM, DIM);\n",
        "  for(int y=0;y<DIM;y++){\n",
        "    for(int x=0;x<DIM;x++){\n",
        "      int offset=x+y*DIM;\n",
        "      fprintf(fp,\"\\n%d %d %d\", ptr[offset*4+0], ptr[offset*4+1], ptr[offset*4+2]);\n",
        "    }\n",
        "  }\n",
        "  fclose(fp);\n",
        "}\n",
        "\n",
        "\n",
        "int main( void ) {\n",
        "       clock_t start_time = clock();\n",
        "\n",
        "    DataBlock data ; \n",
        "    unsigned char *bitmap = (unsigned char*)malloc(DIM*DIM*4*sizeof(unsigned char));\n",
        "    int image_size = DIM * DIM * 4 ;\n",
        "    kernel(bitmap);\n",
        "    save_to_file(bitmap);\n",
        "    // Record the end time\n",
        "    clock_t end_time = clock();\n",
        "\n",
        "    // Calculate the elapsed time in milliseconds\n",
        "    double elapsed_time = (double)(end_time - start_time) / CLOCKS_PER_SEC * 1000;\n",
        "\n",
        "    printf(\"milliseconds %f \\n\", elapsed_time);\n",
        "    long milliseconds = elapsed_time ; \n",
        "    // Convert the milliseconds to seconds\n",
        "    long seconds = milliseconds / 1000.0;\n",
        "    // Print the result\n",
        "    printf(\"%d seconds\\n\",  seconds);\n",
        "\n",
        "\n",
        "    return 0;\n",
        "\n",
        "}"
      ]
    },
    {
      "attachments": {},
      "cell_type": "markdown",
      "metadata": {
        "id": "xxC9qnCmMKGA"
      },
      "source": [
        "### 4. Program na CUDA przy uzycia GPU, wykorzystujacy karte graficzna"
      ]
    },
    {
      "attachments": {},
      "cell_type": "markdown",
      "metadata": {
        "id": "NWYIL--fgYxp"
      },
      "source": [
        "# Opis programu\n",
        "\n",
        "# %%cu kod cuda w Google Collab \n",
        "## Algorytm jest bardzo podobny do poprzedniego przykładu, jednak kilka ważnych zmian zostało wprowadzonych, aby umożliwić przetwarzanie na karcie graficznej.\n",
        "\n",
        "## Struktura cuComplex: ta struktura jest taka sama jak w poprzednim przykładzie, z tą różnicą, że funkcje i konstruktor zostały oznaczone jako device, co oznacza, że są one przeznaczone do uruchomienia na karcie graficznej.\n",
        "\n",
        "## Funkcja mandelbrot2: ta funkcja jest taka sama jak w poprzednim przykładzie, z tą różnicą, że funkcja ta również została oznaczona jako device, co oznacza, że jest przeznaczona do uruchomienia na karcie graficznej."
      ]
    },
    {
      "cell_type": "code",
      "execution_count": null,
      "metadata": {
        "id": "F8_fChzhhrcB"
      },
      "outputs": [],
      "source": []
    },
    {
      "cell_type": "code",
      "execution_count": 58,
      "metadata": {
        "colab": {
          "base_uri": "https://localhost:8080/"
        },
        "id": "JuqYO0NBMLUc",
        "outputId": "5781fce1-5f87-44a3-9732-899947998f02"
      },
      "outputs": [
        {
          "name": "stdout",
          "output_type": "stream",
          "text": [
            "Elapsed time: 634.012207 milliseconds\n",
            "\n"
          ]
        }
      ],
      "source": [
        "%%cu\n",
        "#include<stdio.h>\n",
        "#define DIM 2000\n",
        "#include <cuda_runtime.h>\n",
        "\n",
        "struct cuComplex {\n",
        "    float   r;\n",
        "    float   i;\n",
        "    // cuComplex( float a, float b ) : r(a), i(b)  {}\n",
        "    __device__ cuComplex( float a, float b ) : r(a), i(b) {} // Fix error for calling host function from device\n",
        "    __device__ float magnitude2( void ) {\n",
        "        return r * r + i * i;\n",
        "    }\n",
        "    __device__ cuComplex operator*(const cuComplex& a) {\n",
        "        return cuComplex(r*a.r - i*a.i, i*a.r + r*a.i);\n",
        "    }\n",
        "    __device__ cuComplex operator+(const cuComplex& a) {\n",
        "        return cuComplex(r+a.r, i+a.i);\n",
        "    }\n",
        "};\n",
        "\n",
        "\n",
        "__device__ int mandelbrot2(double x, double y) {\n",
        "    const float scale = 1.5;\n",
        "    float jx = scale * (float)(DIM/2 - x)/(DIM/2);\n",
        "    float jy = scale * (float)(DIM/2 - y)/(DIM/2);\n",
        "    cuComplex c(jx, jy);\n",
        "    cuComplex z(0, 0);\n",
        "    for (int i = 0; i < 200; i++) {\n",
        "    z = z * z + c;\n",
        "      if (z.magnitude2() > 1000) {\n",
        "        return 0;\n",
        "    }\n",
        "  }\n",
        "  return 1;\n",
        "}\n",
        "\n",
        "\n",
        "__global__ void kernel( unsigned char *ptr ) {\n",
        "    // map from blockIdx to pixel position\n",
        "    int x = blockIdx.x;\n",
        "    int y = blockIdx.y;\n",
        "    int offset = x + y * gridDim.x;\n",
        "\n",
        "    // now calculate the value at that position\n",
        "    int man =  mandelbrot2( x, y );\n",
        "    ptr[offset*4 + 0] = 150;\n",
        "    ptr[offset*4 + 1] = 220;\n",
        "    ptr[offset*4 + 2] = 177 * man;\n",
        "    ptr[offset*4 + 3] = 12;\n",
        "}\n",
        "\n",
        "// globals needed by the update routine\n",
        "struct DataBlock {\n",
        "    unsigned char   *dev_bitmap;\n",
        "};\n",
        "\n",
        "\n",
        "\n",
        "void save_to_file(unsigned char *ptr){\n",
        "  FILE *fp=fopen(\"MandelGPU.ppm\",\"w\");\n",
        "  fprintf(fp,\"P3\\n%d %d\\n255\\n\", DIM, DIM);\n",
        "  for(int y=0;y<DIM;y++){\n",
        "    for(int x=0;x<DIM;x++){\n",
        "      int offset=x+y*DIM;\n",
        "      fprintf(fp,\"\\n%d %d %d\", ptr[offset*4+0], ptr[offset*4+1], ptr[offset*4+2]);\n",
        "    }\n",
        "  }\n",
        "  fclose(fp);\n",
        "}\n",
        "\n",
        "int main( void ) {\n",
        "    // Create the start and end events\n",
        "    cudaEvent_t start, end;\n",
        "    cudaEventCreate(&start);\n",
        "    cudaEventCreate(&end);\n",
        "\n",
        "    // Record the start time\n",
        "    cudaEventRecord(start, 0);\n",
        "\n",
        "    \n",
        "    DataBlock data ; \n",
        "    unsigned char *bitmap = (unsigned char*)malloc(DIM*DIM*4*sizeof(unsigned char));\n",
        "    int image_size = DIM * DIM * 4 ;\n",
        "    unsigned char *dev_bitmap;\n",
        "    cudaMalloc((void**)&dev_bitmap,image_size);\n",
        "    data.dev_bitmap = dev_bitmap ;\n",
        "    dim3 grid(DIM,DIM);\n",
        "    kernel<<<grid,1>>>(dev_bitmap);\n",
        "    cudaMemcpy(bitmap,dev_bitmap,image_size,cudaMemcpyDeviceToHost) ;   \n",
        "    cudaFree(dev_bitmap);\n",
        "    save_to_file(bitmap);\n",
        "       // Record the end time\n",
        "    cudaEventRecord(end, 0);\n",
        "\n",
        "    // Synchronize the stream to wait for the kernel to finish\n",
        "    cudaEventSynchronize(end);\n",
        "\n",
        "    // Calculate the elapsed time\n",
        "    float elapsed_time;\n",
        "    cudaEventElapsedTime(&elapsed_time, start, end);\n",
        "\n",
        "    // Print the elapsed time in milliseconds\n",
        "    printf(\"Elapsed time: %f milliseconds\\n\", elapsed_time);\n",
        "\n",
        "    // Destroy the events\n",
        "    cudaEventDestroy(start);\n",
        "    cudaEventDestroy(end);\n",
        "\n",
        "\n",
        "}"
      ]
    },
    {
      "cell_type": "markdown",
      "metadata": {
        "id": "2aXQo7nYRGyA"
      },
      "source": [
        "#GPU time 59.203777    DIM 600\n",
        "#GPU time 105.271072   DIM 800\n",
        "#GPU time 163.239304   DIM 1000\n",
        "#GPU time 223.393799   DIM 1200\n",
        "#GPU time 309.888153   DIM 1400\n",
        "#GPU time 417.935242   DIM 1600\n",
        "#GPU time 545.383118   DIM 1800\n",
        "#GPU time 634.012207   DIM 2000"
      ]
    },
    {
      "cell_type": "markdown",
      "metadata": {
        "id": "qQWDhO1CPzv1"
      },
      "source": [
        "#CPU  time 525.729000 DIm 600\n",
        "#CPU time  962.112000  DIM 800\n",
        "#CPU  time 1438.720000  DIM 1000  \n",
        "#CPU time 2086.150000  DIM 1200\n",
        "#CPU time 2963.573000  DIM 1400\n",
        "#CPU time 3731.129000  DIM 1600\n",
        "#CPU time 4805.774000  DIM 1800\n",
        "#CPU time 5761.879000 DIM 2000\n"
      ]
    },
    {
      "attachments": {},
      "cell_type": "markdown",
      "metadata": {
        "id": "UE9MEt--OdLM"
      },
      "source": [
        "# 5 WYKRES \n",
        "\n",
        "# Tworzy wykres porównujący czas wykonywania operacji na procesorze (CPU) i na karcie graficznej (GPU) w zależności od rozmiaru danych (DIM).\n",
        "\n",
        "# Kod zawiera dwie tablicy: time_ms_cpu i dim_cpu, które przechowują odpowiednio czasy wykonywania operacji na procesorze i rozmiary danych. Podobnie, time_ms_GPU i dim_GPU, zawierają czasy wykonywania operacji na karcie graficznej i rozmiary danych.\n",
        "\n",
        "# Następnie, kod używa funkcji plot z biblioteki matplotlib do utworzenia wykresu. Funkcja ta przyjmuje dwa parametry: time_ms_cpu i dim_cpu dla wykresu CPU oraz time_ms_GPU i dim_GPU dla wykresu GPU. Kolory dla każdego wykresu są ustawione na niebieski dla CPU i czerwony dla GPU.\n",
        "\n",
        "# Na końcu kod ustawia etykiety dla osi x i y, tytuł wykresu, i pokazuje go."
      ]
    },
    {
      "cell_type": "code",
      "execution_count": 64,
      "metadata": {
        "colab": {
          "base_uri": "https://localhost:8080/",
          "height": 295
        },
        "id": "QXIkO6M6OgGC",
        "outputId": "daff42a3-3cce-4870-d91b-5b967c6acf4d"
      },
      "outputs": [
        {
          "data": {
            "image/png": "[encoded data removed]",
            "text/plain": [
              "<Figure size 432x288 with 1 Axes>"
            ]
          },
          "metadata": {
            "needs_background": "light"
          },
          "output_type": "display_data"
        }
      ],
      "source": [
        "import matplotlib.pyplot as plt\n",
        "\n",
        "# dodanie do tablic wartosci time i dim  \n",
        "time_ms_cpu = [ 525.729000 , 962.112000  , 1438.720000   , 2086.150000  , 2963.573000 , 3731.129000  , 4805.774000  , 5761.879000 ]\n",
        "dim_cpu = [600 , 800 , 1000 , 1200 , 1400 , 1600 , 1800 , 2000  ]\n",
        "\n",
        "time_ms_GPU = [ 59.203777  ,105.271072   ,163.239304 ,223.393799  ,309.888153  ,417.935242  ,545.383118   ,634.012207 ]\n",
        "dim_GPU = [600 , 800 , 1000 , 1200 , 1400 , 1600 , 1800 , 2000]\n",
        "\n",
        "# stowrzenie wykresu funkcja plot\n",
        "plt.plot(time_ms_cpu, dim_cpu, color='blue', label='CPU')\n",
        "plt.plot(time_ms_GPU ,dim_GPU  , color='red' , label='GPU' )\n",
        "\n",
        "# tytyl , os x i y \n",
        "plt.xlabel('Time (milliseconds)')\n",
        "plt.ylabel('DIM')\n",
        "plt.title('DIM over Time')\n",
        "\n",
        "# pokaz wykres \n",
        "plt.show()"
      ]
    },
    {
      "attachments": {},
      "cell_type": "markdown",
      "metadata": {
        "id": "nCuxW9YJOghw"
      },
      "source": [
        "## 6 Aczkolwiek nie jest to do końca dobrze\n",
        "# Kod generuje fraktal Mandelbrota i zapisuje go do pliku o nazwie \"out.ppm\" lub \"out.pam\" w formacie PPM lub PAM.\n",
        "# Funkcja mandelbrot() liczy wartość fraktalu dla danego punktu na podstawie liczby iteracji i zwraca liczbę iteracji potrzebną do osiągnięcia warunków przerwania. Funkcja getColorFromPalette() generuje kolor na podstawie liczby iteracji i maksymalnej liczby iteracji. Funkcja kernel() ustawia kolory pikseli dla całego obrazu, a funkcje save_to_file() i save_to_pam() zapisują obraz do pliku.\n",
        "# Dodatkowo, funkcja wypisz_RGB_fraktal() drukuje kolory fraktalu w formacie R G B dla każdego piksela.\n",
        "# Kod został zmodyfikowany poprawiając błędy, takie jak zmiana nieprawidłowych wartości stałych i błędy składni.\n",
        "# Kod jest przeznaczony do uruchomienia na GPU za pomocą CUDA."
      ]
    },
    {
      "cell_type": "code",
      "execution_count": null,
      "metadata": {
        "id": "TJWiiwjNiLF0"
      },
      "outputs": [],
      "source": []
    },
    {
      "cell_type": "code",
      "execution_count": 69,
      "metadata": {
        "colab": {
          "base_uri": "https://localhost:8080/"
        },
        "id": "_wSdODsMcsq7",
        "outputId": "8c099ff4-308d-4594-e9c1-59642d83798d"
      },
      "outputs": [
        {
          "name": "stdout",
          "output_type": "stream",
          "text": [
            "\n"
          ]
        }
      ],
      "source": [
        "%%cu\n",
        "#include <stdio.h>\n",
        "#include <stdlib.h>\n",
        "#include <math.h>\n",
        "#define DIM 1500\n",
        "\n",
        "//2000\n",
        "struct Color {\n",
        "    unsigned char r, g, b;\n",
        "};\n",
        "struct cuComplex {\n",
        "    float real, imag;\n",
        "    cuComplex(float r, float i) : real(r), imag(i) {}\n",
        "    float magnitude2() { return real * real + imag * imag; }\n",
        "    cuComplex operator*(const cuComplex& a) {\n",
        "        return cuComplex(real * a.real - imag * a.imag, real * a.imag + imag * a.real);\n",
        "    }\n",
        "    cuComplex operator+(const cuComplex& a) {\n",
        "        return cuComplex(real + a.real, imag + a.imag);\n",
        "    }\n",
        "};\n",
        "\n",
        "int mandelbrot(int x, int y, int maxIterations) {\n",
        "    const float scale = 1.5;\n",
        "    // bylo 1.5\n",
        "    float jx = scale * (float)(DIM/2 - x)/(DIM/2);\n",
        "    float jy = scale * (float)(DIM/2 - y)/(DIM/2);\n",
        "\n",
        "    cuComplex a(jx, jy);\n",
        "\n",
        "    int i = 0;\n",
        "    for (i = 0; i < maxIterations; i++) {\n",
        "        a = a * a + a;\n",
        "        // bylo 1000\n",
        "        if (a.magnitude2() > 1000) {\n",
        "            return i;\n",
        "        }\n",
        "    }\n",
        "\n",
        "    return i;\n",
        "}\n",
        "\n",
        "Color getColorFromPalette(int value, int maxIterations) {\n",
        "    int red = (value * 255) / maxIterations;\n",
        "    int green = (value * 255) / maxIterations;\n",
        "    int blue = 255 - (value * 255) / maxIterations;\n",
        "\n",
        "    return { (unsigned char)red, (unsigned char)green, (unsigned char)blue };\n",
        "}\n",
        "\n",
        "void kernel(unsigned char *ptr, int maxIterations) {\n",
        "    for (int y = 0; y < DIM; y++) {\n",
        "        for (int x = 0; x < DIM; x++) {\n",
        "            int offset = x + y * DIM;\n",
        "\n",
        "            int mandelbrotValue = mandelbrot(x, y, maxIterations);\n",
        "            if (mandelbrotValue == maxIterations) {\n",
        "                ptr[offset * 4 + 0] = 0;\n",
        "                ptr[offset * 4 + 1] = 0;\n",
        "                ptr[offset * 4 + 2] = 0;\n",
        "                ptr[offset * 4 + 3] = 0;\n",
        "            } else {\n",
        "                ptr[offset * 4 + 0] = getColorFromPalette(mandelbrotValue, maxIterations).r;\n",
        "                ptr[offset * 4 + 1] = getColorFromPalette(mandelbrotValue, maxIterations).g;\n",
        "                ptr[offset * 4 + 2] = getColorFromPalette(mandelbrotValue, maxIterations).b;\n",
        "                ptr[offset * 4 + 3] = 255;\n",
        "            }\n",
        "        }\n",
        "    }\n",
        "}\n",
        "\n",
        "void wypisz_RGB_fraktal(unsigned char *data) {\n",
        "  for (int i=0; i<DIM*DIM*4; i+=4)\n",
        "    printf(\"%3d %3d %3d\\n\", data[i], data[i+1], data[i+2]);\n",
        "}\n",
        "\n",
        "void save_to_file(unsigned char *data) {\n",
        "  FILE *f = fopen(\"out.ppm\", \"w\");\n",
        "  fprintf(f, \"P6\\n%d %d\\n255\\n\", DIM, DIM);\n",
        "  fwrite(data, 1, DIM*DIM*4, f);\n",
        "  fclose(f);\n",
        "}\n",
        "\n",
        "void save_to_pam(unsigned char *data) {\n",
        "  FILE *f = fopen(\"out.pam\", \"w\");\n",
        "  fprintf(f, \"P7\\nWIDTH %d\\nHEIGHT %d\\nDEPTH 4\\nMAXVAL 255\\nTUPLTYPE RGB_ALPHA\\nENDHDR\\n\", DIM, DIM);\n",
        "  fwrite(data, 1, DIM*DIM*4, f);\n",
        "  fclose(f);\n",
        "}\n",
        "\n",
        "int main(void) {\n",
        "    unsigned char *bitmap = (unsigned char*)malloc(DIM * DIM * 4 * sizeof(unsigned char));\n",
        "\n",
        "    // Call the kernel\n",
        "    kernel(bitmap, 500);\n",
        "   // kernel(bitmap , 20);\n",
        "   \n",
        " //wypisz_RGB_fraktal(bitmap);\n",
        "    save_to_file(bitmap);\n",
        "    save_to_pam(bitmap);\n",
        "\n",
        "    return 0;\n",
        "}"
      ]
    }
  ],
  "metadata": {
    "accelerator": "GPU",
    "colab": {
      "provenance": []
    },
    "gpuClass": "standard",
    "kernelspec": {
      "display_name": "Python 3",
      "language": "python",
      "name": "python3"
    },
    "language_info": {
      "name": "python",
      "version": "3.10.8 (main, Nov  6 2022, 23:27:16)  [GCC 12.2.0 64 bit (AMD64)]"
    },
    "vscode": {
      "interpreter": {
        "hash": "2a8dfe095fce2b5e88c64a2c3ee084c8e0e0d70b23e7b95b1cfb538be294c5c8"
      }
    }
  },
  "nbformat": 4,
  "nbformat_minor": 0
}
